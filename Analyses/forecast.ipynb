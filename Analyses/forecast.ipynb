{
 "cells": [
  {
   "cell_type": "markdown",
   "metadata": {},
   "source": [
    "# Forecast of creatinine values\n",
    "\n",
    "## Requirements\n",
    "* An AI model is delivered\n",
    "* The model takes a series of creatinine measures (with the dates) and a time intervall as an input and outputs the extended curve (as a numpy array sampled every two weeks) over the time intervall (starting at the last given measurement)\n",
    "\n",
    "## Outline of the project\n",
    "1. Data processing :\n",
    "    * Querying the creatinine measurement history of the patients where there have been made at least 10 such measurements\n",
    "    * Interpolating the points to get a numpy array with the expected creatinine values every 2 weeks\n",
    "2. Training the model\n",
    "3. Testing the model\n"
   ]
  },
  {
   "cell_type": "code",
   "execution_count": null,
   "metadata": {
    "vscode": {
     "languageId": "plaintext"
    }
   },
   "outputs": [],
   "source": []
  }
 ],
 "metadata": {
  "language_info": {
   "name": "python"
  }
 },
 "nbformat": 4,
 "nbformat_minor": 2
}
